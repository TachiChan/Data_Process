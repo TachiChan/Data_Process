{
 "cells": [
  {
   "cell_type": "code",
   "execution_count": 1,
   "metadata": {},
   "outputs": [],
   "source": [
    "import pandas as pd\n",
    "import numpy as np"
   ]
  },
  {
   "cell_type": "code",
   "execution_count": 2,
   "metadata": {},
   "outputs": [],
   "source": [
    "def show_df_info(df):\n",
    "    print(df.info())\n",
    "    print('####### Repeat ####### \\n', df.duplicated().any())\n",
    "    print('####### Count ####### \\n', df.nunique())\n",
    "#     print('####### Describe ####### \\n', df.describe())\n",
    "    print('####### Example ####### \\n',df.head())"
   ]
  },
  {
   "cell_type": "code",
   "execution_count": 3,
   "metadata": {},
   "outputs": [],
   "source": [
    "def label_statics(label_df, label_list):\n",
    "    print(\"####### nCount #######\")\n",
    "    for label in label_list:\n",
    "        print(label_df[label].value_counts())\n",
    "    print(\"####### nPercent #######\")\n",
    "    for label in label_list:\n",
    "        print(label_df[label].value_counts()/label_df.shape[0])"
   ]
  },
  {
   "cell_type": "markdown",
   "metadata": {},
   "source": [
    "# Load"
   ]
  },
  {
   "cell_type": "markdown",
   "metadata": {},
   "source": [
    "## label"
   ]
  },
  {
   "cell_type": "markdown",
   "metadata": {},
   "source": [
    "### label analysis"
   ]
  },
  {
   "cell_type": "code",
   "execution_count": 4,
   "metadata": {},
   "outputs": [
    {
     "name": "stdout",
     "output_type": "stream",
     "text": [
      "<class 'pandas.core.frame.DataFrame'>\n",
      "Int64Index: 2320895 entries, 0 to 2320894\n",
      "Data columns (total 4 columns):\n",
      "uid       int64\n",
      "year      object\n",
      "gender    int64\n",
      "tweet     int64\n",
      "dtypes: int64(3), object(1)\n",
      "memory usage: 88.5+ MB\n",
      "None\n",
      "####### Repeat ####### \n",
      " False\n",
      "####### Count ####### \n",
      " uid       2320895\n",
      "year          163\n",
      "gender          4\n",
      "tweet        3633\n",
      "dtype: int64\n",
      "####### Example ####### \n",
      "       uid  year  gender  tweet\n",
      "0  100044  1899       1      5\n",
      "1  100054  1987       2      6\n",
      "2  100065  1989       1     57\n",
      "3  100080  1986       1     31\n",
      "4  100086  1986       1    129\n"
     ]
    }
   ],
   "source": [
    "label = pd.read_csv('./user_profile.txt', sep='\\t', usecols=[0,1,2,3], header=None, names=['uid', 'year', 'gender', 'tweet'])\n",
    "label.dropna(inplace=True)\n",
    "show_df_info(label)"
   ]
  },
  {
   "cell_type": "code",
   "execution_count": 5,
   "metadata": {},
   "outputs": [
    {
     "name": "stdout",
     "output_type": "stream",
     "text": [
      "<class 'pandas.core.frame.DataFrame'>\n",
      "Int64Index: 2216040 entries, 1 to 2320894\n",
      "Data columns (total 4 columns):\n",
      "uid       int64\n",
      "year      object\n",
      "gender    int64\n",
      "tweet     int64\n",
      "dtypes: int64(3), object(1)\n",
      "memory usage: 84.5+ MB\n",
      "None\n",
      "####### Repeat ####### \n",
      " False\n",
      "####### Count ####### \n",
      " uid       2216040\n",
      "year          100\n",
      "gender          2\n",
      "tweet        3585\n",
      "dtype: int64\n",
      "####### Example ####### \n",
      "       uid  year  gender  tweet\n",
      "1  100054  1987       2      6\n",
      "2  100065  1989       1     57\n",
      "3  100080  1986       1     31\n",
      "4  100086  1986       1    129\n",
      "5  100097  1981       1     75\n"
     ]
    }
   ],
   "source": [
    "label = label[label['gender'].isin(['1', '2'])] \n",
    "year = list(map(str, [x for x in range(1912,2012)]))\n",
    "label = label[label['year'].isin(year)]\n",
    "show_df_info(label)"
   ]
  },
  {
   "cell_type": "code",
   "execution_count": 6,
   "metadata": {},
   "outputs": [
    {
     "name": "stdout",
     "output_type": "stream",
     "text": [
      "<class 'pandas.core.frame.DataFrame'>\n",
      "Int64Index: 2216040 entries, 1 to 2320894\n",
      "Data columns (total 4 columns):\n",
      "uid       int64\n",
      "age       int64\n",
      "gender    int64\n",
      "tweet     int64\n",
      "dtypes: int64(4)\n",
      "memory usage: 84.5 MB\n",
      "None\n",
      "####### Repeat ####### \n",
      " False\n",
      "####### Count ####### \n",
      " uid       2216040\n",
      "age           100\n",
      "gender          2\n",
      "tweet        3585\n",
      "dtype: int64\n",
      "####### Example ####### \n",
      "       uid  age  gender  tweet\n",
      "1  100054   25       2      6\n",
      "2  100065   23       1     57\n",
      "3  100080   26       1     31\n",
      "4  100086   26       1    129\n",
      "5  100097   31       1     75\n"
     ]
    }
   ],
   "source": [
    "label[['year']] = pd.to_numeric(label['year'])\n",
    "label[['year']] = 2012 - label[['year']]\n",
    "label.rename(columns={'year':'age'}, inplace=True)\n",
    "show_df_info(label)"
   ]
  },
  {
   "cell_type": "markdown",
   "metadata": {},
   "source": [
    "### label filter"
   ]
  },
  {
   "cell_type": "code",
   "execution_count": 7,
   "metadata": {
    "scrolled": true
   },
   "outputs": [
    {
     "data": {
      "image/png": "[encoded data removed]",
      "text/plain": [
       "<Figure size 432x288 with 1 Axes>"
      ]
     },
     "metadata": {
      "needs_background": "light"
     },
     "output_type": "display_data"
    }
   ],
   "source": [
    "from collections import Counter\n",
    "import matplotlib.pyplot as plt\n",
    "\n",
    "%matplotlib inline\n",
    "\n",
    "def age_distribution_show(age, AGE_MIN, AGE_MAX, title):\n",
    "    count = Counter(age)\n",
    "    count_dict = dict(count)\n",
    "    axis_age = list(np.arange(AGE_MIN,AGE_MAX+1,1))\n",
    "    axis_num = [count_dict[x] for x in axis_age]\n",
    "    plt.figure()\n",
    "    plt.bar(axis_age, axis_num)\n",
    "    plt.title(title)\n",
    "    plt.show()\n",
    "\n",
    "# Age analysis\n",
    "age_distribution_show(label['age'], 1, 100, 'Age Overall Distribution')"
   ]
  },
  {
   "cell_type": "code",
   "execution_count": 8,
   "metadata": {},
   "outputs": [],
   "source": [
    "# Define parameters\n",
    "AGE_MIN = 10  # 0-99\n",
    "AGE_MAX = 80  # 0-99\n",
    "LEAST_NUM_TWEET = 0"
   ]
  },
  {
   "cell_type": "code",
   "execution_count": 9,
   "metadata": {},
   "outputs": [
    {
     "name": "stdout",
     "output_type": "stream",
     "text": [
      "<class 'pandas.core.frame.DataFrame'>\n",
      "Int64Index: 2059440 entries, 1 to 2320893\n",
      "Data columns (total 4 columns):\n",
      "uid       int64\n",
      "age       int64\n",
      "gender    int64\n",
      "tweet     int64\n",
      "dtypes: int64(4)\n",
      "memory usage: 78.6 MB\n",
      "None\n",
      "####### Repeat ####### \n",
      " False\n",
      "####### Count ####### \n",
      " uid       2059440\n",
      "age            71\n",
      "gender          2\n",
      "tweet        3491\n",
      "dtype: int64\n",
      "####### Example ####### \n",
      "       uid  age  gender  tweet\n",
      "1  100054   25       2      6\n",
      "2  100065   23       1     57\n",
      "3  100080   26       1     31\n",
      "4  100086   26       1    129\n",
      "5  100097   31       1     75\n"
     ]
    }
   ],
   "source": [
    "age = [x for x in range(AGE_MIN,AGE_MAX+1)]\n",
    "label = label[label['age'].isin(age)]\n",
    "label = label[label['tweet']>=LEAST_NUM_TWEET]\n",
    "show_df_info(label)"
   ]
  },
  {
   "cell_type": "code",
   "execution_count": 10,
   "metadata": {},
   "outputs": [
    {
     "data": {
      "image/png": "[encoded data removed]",
      "text/plain": [
       "<Figure size 432x288 with 1 Axes>"
      ]
     },
     "metadata": {
      "needs_background": "light"
     },
     "output_type": "display_data"
    }
   ],
   "source": [
    "age_distribution_show(label['age'], 10, 80, 'Age 10-80 Distribution')"
   ]
  },
  {
   "cell_type": "code",
   "execution_count": 11,
   "metadata": {
    "scrolled": true
   },
   "outputs": [
    {
     "name": "stdout",
     "output_type": "stream",
     "text": [
      "<class 'pandas.core.frame.DataFrame'>\n",
      "Int64Index: 2059440 entries, 1 to 2320893\n",
      "Data columns (total 4 columns):\n",
      "uid       int64\n",
      "age       int64\n",
      "gender    int64\n",
      "tweet     int64\n",
      "dtypes: int64(4)\n",
      "memory usage: 78.6 MB\n",
      "None\n",
      "####### Repeat ####### \n",
      " False\n",
      "####### Count ####### \n",
      " uid       2059440\n",
      "age             7\n",
      "gender          2\n",
      "tweet        3491\n",
      "dtype: int64\n",
      "####### Example ####### \n",
      "       uid  age  gender  tweet\n",
      "1  100054    2       2      6\n",
      "2  100065    2       1     57\n",
      "3  100080    3       1     31\n",
      "4  100086    3       1    129\n",
      "5  100097    4       1     75\n",
      "####### nCount #######\n",
      "1    546519\n",
      "0    488988\n",
      "2    425407\n",
      "3    328290\n",
      "4    252889\n",
      "5     11990\n",
      "6      5357\n",
      "Name: age, dtype: int64\n",
      "1    1045571\n",
      "2    1013869\n",
      "Name: gender, dtype: int64\n",
      "####### nPercent #######\n",
      "1    0.265373\n",
      "0    0.237437\n",
      "2    0.206564\n",
      "3    0.159407\n",
      "4    0.122795\n",
      "5    0.005822\n",
      "6    0.002601\n",
      "Name: age, dtype: float64\n",
      "1    0.507697\n",
      "2    0.492303\n",
      "Name: gender, dtype: float64\n"
     ]
    }
   ],
   "source": [
    "age2id = {}\n",
    "\n",
    "for age in range(AGE_MIN,AGE_MAX+1):\n",
    "    if age < 19:\n",
    "        age2id[age] = 0\n",
    "    elif age < 23: \n",
    "        age2id[age] = 1 \n",
    "    elif age < 26: \n",
    "        age2id[age] = 2\n",
    "    elif age < 31:\n",
    "        age2id[age] = 3\n",
    "    elif age < 51:\n",
    "        age2id[age] = 4\n",
    "    elif age < 61:\n",
    "        age2id[age] = 5\n",
    "    else:\n",
    "        age2id[age] = 6\n",
    "\n",
    "label[['age']] = label[['age']].applymap(lambda x:age2id[x])\n",
    "show_df_info(label)\n",
    "label_statics(label, label.columns[1:3])"
   ]
  },
  {
   "cell_type": "markdown",
   "metadata": {},
   "source": [
    "## pid_cid"
   ]
  },
  {
   "cell_type": "code",
   "execution_count": 12,
   "metadata": {},
   "outputs": [
    {
     "name": "stdout",
     "output_type": "stream",
     "text": [
      "<class 'pandas.core.frame.DataFrame'>\n",
      "RangeIndex: 6095 entries, 0 to 6094\n",
      "Data columns (total 2 columns):\n",
      "pid    6095 non-null int64\n",
      "cid    6095 non-null object\n",
      "dtypes: int64(1), object(1)\n",
      "memory usage: 95.3+ KB\n",
      "None\n",
      "####### Repeat ####### \n",
      " False\n",
      "####### Count ####### \n",
      " pid    6095\n",
      "cid     377\n",
      "dtype: int64\n",
      "####### Example ####### \n",
      "        pid      cid\n",
      "0  2335869  8.1.4.2\n",
      "1  1774844  1.8.3.6\n",
      "2  1775000  1.4.2.4\n",
      "3  1775024  1.4.1.4\n",
      "4  1774455  1.4.1.2\n"
     ]
    }
   ],
   "source": [
    "pid_cid = pd.read_csv('./item.txt', sep='\\t', usecols=[0,1], header=None, names=['pid', 'cid'])\n",
    "label.dropna(inplace=True)\n",
    "show_df_info(pid_cid)"
   ]
  },
  {
   "cell_type": "code",
   "execution_count": 13,
   "metadata": {},
   "outputs": [
    {
     "name": "stdout",
     "output_type": "stream",
     "text": [
      "<class 'pandas.core.frame.DataFrame'>\n",
      "RangeIndex: 6095 entries, 0 to 6094\n",
      "Data columns (total 2 columns):\n",
      "pid    6095 non-null int64\n",
      "cid    6095 non-null int64\n",
      "dtypes: int64(2)\n",
      "memory usage: 95.3 KB\n",
      "None\n",
      "####### Repeat ####### \n",
      " False\n",
      "####### Count ####### \n",
      " pid    6095\n",
      "cid     377\n",
      "dtype: int64\n",
      "####### Example ####### \n",
      "        pid  cid\n",
      "0  2335869    0\n",
      "1  1774844    1\n",
      "2  1775000    2\n",
      "3  1775024    3\n",
      "4  1774455    4\n"
     ]
    }
   ],
   "source": [
    "cid2id = {num: i for i, num in enumerate(pd.unique(pid_cid['cid']))}\n",
    "\n",
    "pid_cid[['cid']] = pid_cid[['cid']].applymap(lambda x: cid2id[x])\n",
    "show_df_info(pid_cid)"
   ]
  },
  {
   "cell_type": "markdown",
   "metadata": {},
   "source": [
    "## uid_pid"
   ]
  },
  {
   "cell_type": "code",
   "execution_count": 14,
   "metadata": {},
   "outputs": [
    {
     "name": "stdout",
     "output_type": "stream",
     "text": [
      "<class 'pandas.core.frame.DataFrame'>\n",
      "Int64Index: 4665727 entries, 38 to 73209212\n",
      "Data columns (total 2 columns):\n",
      "uid    int64\n",
      "pid    int64\n",
      "dtypes: int64(2)\n",
      "memory usage: 106.8 MB\n",
      "None\n",
      "####### Repeat ####### \n",
      " False\n",
      "####### Count ####### \n",
      " uid    1238565\n",
      "pid       4530\n",
      "dtype: int64\n",
      "####### Example ####### \n",
      "         uid      pid\n",
      "38   633246   731434\n",
      "45  2384384  1675399\n",
      "46  2384384  1774963\n",
      "47  2384384   682877\n",
      "71  2319049   218438\n"
     ]
    }
   ],
   "source": [
    "uid_pid = pd.read_csv('./rec_log_train.txt', sep='\\t', usecols=[0,1,2], header=None, names=['uid', 'pid', 'action'])\n",
    "label.dropna(inplace=True)\n",
    "\n",
    "uid_pid = uid_pid[uid_pid['action']==1]\n",
    "uid_pid.drop('action', axis=1, inplace=True)\n",
    "\n",
    "uid_pid = uid_pid[uid_pid['uid'].isin(label['uid'])]\n",
    "uid_pid = uid_pid[uid_pid['pid'].isin(pid_cid['pid'])]\n",
    "\n",
    "uid_pid.drop_duplicates(inplace=True)\n",
    "show_df_info(uid_pid)"
   ]
  },
  {
   "cell_type": "code",
   "execution_count": 15,
   "metadata": {},
   "outputs": [
    {
     "name": "stdout",
     "output_type": "stream",
     "text": [
      "<class 'pandas.core.frame.DataFrame'>\n",
      "Int64Index: 4665727 entries, 38 to 73209212\n",
      "Data columns (total 2 columns):\n",
      "uid    int64\n",
      "pid    int64\n",
      "dtypes: int64(2)\n",
      "memory usage: 106.8 MB\n",
      "None\n",
      "####### Repeat ####### \n",
      " False\n",
      "####### Count ####### \n",
      " uid    1238565\n",
      "pid       4530\n",
      "dtype: int64\n",
      "####### Example ####### \n",
      "         uid      pid\n",
      "38   633246   731434\n",
      "45  2384384  1675399\n",
      "46  2384384  1774963\n",
      "47  2384384   682877\n",
      "71  2319049   218438\n"
     ]
    }
   ],
   "source": [
    "uid_pid = pd.read_csv('./rec_log_train.txt', sep='\\t', usecols=[0,1,2], header=None, names=['uid', 'pid', 'action'])\n",
    "uid_pid.dropna(inplace=True)\n",
    "\n",
    "uid_pid = uid_pid[uid_pid['action']==1]\n",
    "uid_pid.drop('action', axis=1, inplace=True)\n",
    "\n",
    "uid_pid = uid_pid[uid_pid['uid'].isin(label['uid'])]\n",
    "uid_pid = uid_pid[uid_pid['pid'].isin(pid_cid['pid'])]\n",
    "\n",
    "uid_pid.drop_duplicates(inplace=True)\n",
    "show_df_info(uid_pid)"
   ]
  },
  {
   "cell_type": "markdown",
   "metadata": {},
   "source": [
    "# Filter & Process"
   ]
  },
  {
   "cell_type": "code",
   "execution_count": 16,
   "metadata": {},
   "outputs": [],
   "source": [
    "def get_count(tp, id):\n",
    "    playcount_groupbyid = tp[[id]].groupby(id, as_index=False)\n",
    "    count = playcount_groupbyid.size()\n",
    "    return count\n",
    "\n",
    "def filter_triplets(tp, user, item, min_uc=0, max_uc=0, min_sc=0, max_sc=0):\n",
    "    # Only keep the triplets for users who clicked on at least min_uc items.\n",
    "    if min_uc > 0:\n",
    "        usercount = get_count(tp, user)\n",
    "        tp = tp[tp[user].isin(usercount.index[usercount >= min_uc])]\n",
    "        \n",
    "    # Only keep the triplets for users who clicked on at most max_uc items.\n",
    "    if max_uc > 0:\n",
    "        usercount = get_count(tp, user)\n",
    "        tp = tp[tp[user].isin(usercount.index[usercount <= max_uc])]\n",
    "    \n",
    "    # Only keep the triplets for items which were clicked by at least min_sc users. \n",
    "    if min_sc > 0:\n",
    "        itemcount = get_count(tp, item)\n",
    "        tp = tp[tp[item].isin(itemcount.index[itemcount >= min_sc])]\n",
    "        \n",
    "    # Only keep the triplets for items which were clicked by at most max_sc users. \n",
    "    if max_sc > 0:\n",
    "        itemcount = get_count(tp, item)\n",
    "        tp = tp[tp[item].isin(itemcount.index[itemcount <= max_sc])]\n",
    "    \n",
    "    # Update both usercount and itemcount after filtering\n",
    "    usercount, itemcount = get_count(tp, user), get_count(tp, item) \n",
    "    return tp, usercount, itemcount"
   ]
  },
  {
   "cell_type": "markdown",
   "metadata": {},
   "source": [
    "## uid_cid"
   ]
  },
  {
   "cell_type": "code",
   "execution_count": 17,
   "metadata": {},
   "outputs": [
    {
     "name": "stdout",
     "output_type": "stream",
     "text": [
      "<class 'pandas.core.frame.DataFrame'>\n",
      "Int64Index: 3325231 entries, 0 to 4665726\n",
      "Data columns (total 2 columns):\n",
      "uid    int64\n",
      "cid    int64\n",
      "dtypes: int64(2)\n",
      "memory usage: 76.1 MB\n",
      "None\n",
      "####### Repeat ####### \n",
      " False\n",
      "####### Count ####### \n",
      " uid    1238565\n",
      "cid        330\n",
      "dtype: int64\n",
      "####### Example ####### \n",
      "        uid  cid\n",
      "0   633246    6\n",
      "1  1463875    6\n",
      "2   972940    6\n",
      "3  1391785    6\n",
      "4  1116208    6\n"
     ]
    }
   ],
   "source": [
    "uid_pid_cid = pd.merge(uid_pid, pid_cid, how='inner', on='pid')\n",
    "# show_df_info(uid_pid_cid)\n",
    "raw_uid_cid = uid_pid_cid.drop('pid', axis=1, inplace=False)\n",
    "# show_df_info(uid_cid)\n",
    "raw_uid_cid.drop_duplicates(inplace=True)\n",
    "show_df_info(raw_uid_cid)"
   ]
  },
  {
   "cell_type": "markdown",
   "metadata": {},
   "source": [
    "### filter uid_cid (cid interactions>=2 is optional)"
   ]
  },
  {
   "cell_type": "code",
   "execution_count": 18,
   "metadata": {},
   "outputs": [
    {
     "name": "stdout",
     "output_type": "stream",
     "text": [
      "After filtering, there are 1143798 interacton events from 51378 users and 309 items (sparsity: 7.2047%)\n"
     ]
    }
   ],
   "source": [
    "uid_cid, uid_activity, cid_popularity = filter_triplets(raw_uid_cid, 'uid', 'cid', min_uc=10, max_uc=0, min_sc=4, max_sc=0) # min_sc>=2\n",
    "\n",
    "sparsity = 1. * uid_cid.shape[0] / (uid_activity.shape[0] * cid_popularity.shape[0])\n",
    "\n",
    "print(\"After filtering, there are %d interacton events from %d users and %d items (sparsity: %.4f%%)\" % \n",
    "      (uid_cid.shape[0], uid_activity.shape[0], cid_popularity.shape[0], sparsity * 100))"
   ]
  },
  {
   "cell_type": "code",
   "execution_count": 19,
   "metadata": {},
   "outputs": [
    {
     "name": "stdout",
     "output_type": "stream",
     "text": [
      "<class 'pandas.core.frame.DataFrame'>\n",
      "Int64Index: 1143798 entries, 1 to 4665724\n",
      "Data columns (total 2 columns):\n",
      "uid    1143798 non-null int64\n",
      "cid    1143798 non-null int64\n",
      "dtypes: int64(2)\n",
      "memory usage: 26.2 MB\n",
      "None\n",
      "####### Repeat ####### \n",
      " False\n",
      "####### Count ####### \n",
      " uid    51378\n",
      "cid      309\n",
      "dtype: int64\n",
      "####### Example ####### \n",
      "        uid  cid\n",
      "1  1463875    6\n",
      "2   972940    6\n",
      "3  1391785    6\n",
      "5  2035240    6\n",
      "6   324094    6\n"
     ]
    }
   ],
   "source": [
    "show_df_info(uid_cid) "
   ]
  },
  {
   "cell_type": "markdown",
   "metadata": {},
   "source": [
    "## uid_uid by relation"
   ]
  },
  {
   "cell_type": "code",
   "execution_count": 20,
   "metadata": {},
   "outputs": [
    {
     "name": "stdout",
     "output_type": "stream",
     "text": [
      "<class 'pandas.core.frame.DataFrame'>\n",
      "Int64Index: 50655143 entries, 0 to 50655142\n",
      "Data columns (total 2 columns):\n",
      "uid1    int64\n",
      "uid2    int64\n",
      "dtypes: int64(2)\n",
      "memory usage: 1.1 GB\n",
      "None\n",
      "####### Repeat ####### \n",
      " False\n",
      "####### Count ####### \n",
      " uid1    1892059\n",
      "uid2     920110\n",
      "dtype: int64\n",
      "####### Example ####### \n",
      "       uid1     uid2\n",
      "0  1000001   373407\n",
      "1  1000001   461001\n",
      "2  1000001   692475\n",
      "3  1000002  1760423\n",
      "4  1000002  1760426\n"
     ]
    }
   ],
   "source": [
    "uid_uid = pd.read_csv('./user_sns.txt', sep='\\t', usecols=[0,1], header=None, names=['uid1', 'uid2'])\n",
    "uid_uid.dropna(inplace=True)\n",
    "show_df_info(uid_uid)"
   ]
  },
  {
   "cell_type": "code",
   "execution_count": 21,
   "metadata": {},
   "outputs": [
    {
     "name": "stdout",
     "output_type": "stream",
     "text": [
      "<class 'pandas.core.frame.DataFrame'>\n",
      "Int64Index: 50706520 entries, 0 to 51377\n",
      "Data columns (total 2 columns):\n",
      "uid1    int64\n",
      "uid2    int64\n",
      "dtypes: int64(2)\n",
      "memory usage: 1.1 GB\n",
      "None\n",
      "####### Repeat ####### \n",
      " False\n",
      "####### Count ####### \n",
      " uid1    1898285\n",
      "uid2     943836\n",
      "dtype: int64\n",
      "####### Example ####### \n",
      "       uid1     uid2\n",
      "0  1000001   373407\n",
      "1  1000001   461001\n",
      "2  1000001   692475\n",
      "3  1000002  1760423\n",
      "4  1000002  1760426\n"
     ]
    }
   ],
   "source": [
    "unique_uid = pd.unique(uid_cid['uid']).reshape(-1,1)\n",
    "self_loop = np.hstack((unique_uid, unique_uid))\n",
    "\n",
    "uid_self_loop = pd.DataFrame(self_loop, columns=['uid1', 'uid2'])\n",
    "\n",
    "uid_uid = uid_uid.append(uid_self_loop)\n",
    "uid_uid.drop_duplicates(inplace=True)\n",
    "show_df_info(uid_uid)"
   ]
  },
  {
   "cell_type": "code",
   "execution_count": 22,
   "metadata": {},
   "outputs": [
    {
     "name": "stdout",
     "output_type": "stream",
     "text": [
      "<class 'pandas.core.frame.DataFrame'>\n",
      "Int64Index: 66183 entries, 2441 to 51377\n",
      "Data columns (total 2 columns):\n",
      "uid1    66183 non-null int64\n",
      "uid2    66183 non-null int64\n",
      "dtypes: int64(2)\n",
      "memory usage: 1.5 MB\n",
      "None\n",
      "####### Repeat ####### \n",
      " False\n",
      "####### Count ####### \n",
      " uid1    51378\n",
      "uid2    51378\n",
      "dtype: int64\n",
      "####### Example ####### \n",
      "          uid1     uid2\n",
      "2441   100008   561621\n",
      "2442   100008   844869\n",
      "7557  1000301  1214818\n",
      "7558  1000301  1224960\n",
      "7850  1000301  2066818\n"
     ]
    }
   ],
   "source": [
    "uid_uid = uid_uid[uid_uid['uid1'].isin(uid_cid['uid'])]\n",
    "uid_uid = uid_uid[uid_uid['uid2'].isin(uid_cid['uid'])]\n",
    "show_df_info(uid_uid)"
   ]
  },
  {
   "cell_type": "code",
   "execution_count": 23,
   "metadata": {},
   "outputs": [
    {
     "name": "stdout",
     "output_type": "stream",
     "text": [
      "<class 'pandas.core.frame.DataFrame'>\n",
      "Int64Index: 77650 entries, 2441 to 50652000\n",
      "Data columns (total 2 columns):\n",
      "uid1    77650 non-null int64\n",
      "uid2    77650 non-null int64\n",
      "dtypes: int64(2)\n",
      "memory usage: 1.8 MB\n",
      "None\n",
      "####### Repeat ####### \n",
      " False\n",
      "####### Count ####### \n",
      " uid1    51378\n",
      "uid2    51378\n",
      "dtype: int64\n",
      "####### Example ####### \n",
      "          uid1     uid2\n",
      "2441   100008   561621\n",
      "2442   100008   844869\n",
      "7557  1000301  1214818\n",
      "7558  1000301  1224960\n",
      "7850  1000301  2066818\n"
     ]
    },
    {
     "name": "stderr",
     "output_type": "stream",
     "text": [
      "/home/nature/Air/pytorch-gpu/venv/lib/python3.5/site-packages/pandas/core/frame.py:6692: FutureWarning: Sorting because non-concatenation axis is not aligned. A future version\n",
      "of pandas will change to not sort by default.\n",
      "\n",
      "To accept the future behavior, pass 'sort=False'.\n",
      "\n",
      "To retain the current behavior and silence the warning, pass 'sort=True'.\n",
      "\n",
      "  sort=sort)\n"
     ]
    }
   ],
   "source": [
    "uid_uid_mirror = uid_uid.rename(columns={'uid1':'uid2', 'uid2':'uid1'}, inplace=False)\n",
    "uid_uid = uid_uid.append(uid_uid_mirror)\n",
    "uid_uid.drop_duplicates(inplace=True)\n",
    "show_df_info(uid_uid)"
   ]
  },
  {
   "cell_type": "markdown",
   "metadata": {},
   "source": [
    "# Map"
   ]
  },
  {
   "cell_type": "code",
   "execution_count": 24,
   "metadata": {},
   "outputs": [],
   "source": [
    "user_label = label[label['uid'].isin(uid_cid['uid'])]"
   ]
  },
  {
   "cell_type": "code",
   "execution_count": 25,
   "metadata": {},
   "outputs": [],
   "source": [
    "uid2id = {num: i for i, num in enumerate(user_label['uid'])}\n",
    "cid2id = {num: i for i, num in enumerate(pd.unique(uid_cid['cid']))}\n",
    "\n",
    "def col_map(df, col, num2id):\n",
    "    df[[col]] = df[[col]].applymap(lambda x: num2id[x])\n",
    "    return df"
   ]
  },
  {
   "cell_type": "code",
   "execution_count": 26,
   "metadata": {},
   "outputs": [
    {
     "name": "stderr",
     "output_type": "stream",
     "text": [
      "/home/nature/Air/pytorch-gpu/venv/lib/python3.5/site-packages/pandas/core/frame.py:3391: SettingWithCopyWarning: \n",
      "A value is trying to be set on a copy of a slice from a DataFrame.\n",
      "Try using .loc[row_indexer,col_indexer] = value instead\n",
      "\n",
      "See the caveats in the documentation: http://pandas.pydata.org/pandas-docs/stable/indexing.html#indexing-view-versus-copy\n",
      "  self[k1] = value[k2]\n"
     ]
    },
    {
     "name": "stdout",
     "output_type": "stream",
     "text": [
      "<class 'pandas.core.frame.DataFrame'>\n",
      "Int64Index: 51378 entries, 8 to 2320874\n",
      "Data columns (total 4 columns):\n",
      "uid       51378 non-null int64\n",
      "age       51378 non-null int64\n",
      "gender    51378 non-null int64\n",
      "tweet     51378 non-null int64\n",
      "dtypes: int64(4)\n",
      "memory usage: 2.0 MB\n",
      "None\n",
      "####### Repeat ####### \n",
      " False\n",
      "####### Count ####### \n",
      " uid       51378\n",
      "age           7\n",
      "gender        2\n",
      "tweet      1596\n",
      "dtype: int64\n",
      "####### Example ####### \n",
      "      uid  age  gender  tweet\n",
      "8      0    0       0     39\n",
      "12     1    1       1    345\n",
      "15     2    1       1     31\n",
      "25     3    2       1     57\n",
      "123    4    3       1    105\n"
     ]
    }
   ],
   "source": [
    "def label_map(label_df, label_list):\n",
    "    for label in label_list:\n",
    "        label2id = {num: i for i, num in enumerate(pd.unique(label_df[label]))}\n",
    "        label_df = col_map(label_df, label, label2id)\n",
    "    return label_df\n",
    "    \n",
    "user_label = col_map(user_label, 'uid', uid2id)\n",
    "user_label = label_map(user_label, user_label.columns[1:3])\n",
    "show_df_info(user_label)"
   ]
  },
  {
   "cell_type": "code",
   "execution_count": 27,
   "metadata": {},
   "outputs": [
    {
     "name": "stdout",
     "output_type": "stream",
     "text": [
      "<class 'pandas.core.frame.DataFrame'>\n",
      "Int64Index: 77650 entries, 2441 to 50652000\n",
      "Data columns (total 2 columns):\n",
      "uid1    77650 non-null int64\n",
      "uid2    77650 non-null int64\n",
      "dtypes: int64(2)\n",
      "memory usage: 1.8 MB\n",
      "None\n",
      "####### Repeat ####### \n",
      " False\n",
      "####### Count ####### \n",
      " uid1    51378\n",
      "uid2    51378\n",
      "dtype: int64\n",
      "####### Example ####### \n",
      "        uid1   uid2\n",
      "2441   5204  11295\n",
      "2442   5204  22120\n",
      "7557  27694   7685\n",
      "7558  27694  48748\n",
      "7850  27694   9565\n"
     ]
    }
   ],
   "source": [
    "user_edge = uid_uid[uid_uid['uid1'].isin(uid_cid['uid'])]\n",
    "user_edge = user_edge[user_edge['uid2'].isin(uid_cid['uid'])]\n",
    "# show_df_info(user_edge)\n",
    "\n",
    "user_edge = col_map(user_edge, 'uid1', uid2id)\n",
    "user_edge = col_map(user_edge, 'uid2', uid2id)\n",
    "show_df_info(user_edge)"
   ]
  },
  {
   "cell_type": "code",
   "execution_count": 28,
   "metadata": {},
   "outputs": [
    {
     "name": "stdout",
     "output_type": "stream",
     "text": [
      "<class 'pandas.core.frame.DataFrame'>\n",
      "Int64Index: 1143798 entries, 1 to 4665724\n",
      "Data columns (total 2 columns):\n",
      "uid    1143798 non-null int64\n",
      "cid    1143798 non-null int64\n",
      "dtypes: int64(2)\n",
      "memory usage: 26.2 MB\n",
      "None\n",
      "####### Repeat ####### \n",
      " False\n",
      "####### Count ####### \n",
      " uid    51378\n",
      "cid      309\n",
      "dtype: int64\n",
      "####### Example ####### \n",
      "      uid  cid\n",
      "1  23536    0\n",
      "2  17283    0\n",
      "3  28544    0\n",
      "5  14523    0\n",
      "6  26109    0\n"
     ]
    }
   ],
   "source": [
    "user_field = col_map(uid_cid, 'uid', uid2id)\n",
    "user_field = col_map(user_field, 'cid', cid2id)\n",
    "show_df_info(user_field)"
   ]
  },
  {
   "cell_type": "markdown",
   "metadata": {},
   "source": [
    "# Save"
   ]
  },
  {
   "cell_type": "code",
   "execution_count": 29,
   "metadata": {},
   "outputs": [
    {
     "name": "stdout",
     "output_type": "stream",
     "text": [
      "####### nCount #######\n",
      "1    13975\n",
      "3    11781\n",
      "0    11204\n",
      "2     8051\n",
      "5     5846\n",
      "4      354\n",
      "6      167\n",
      "Name: age, dtype: int64\n",
      "1    35560\n",
      "0    15818\n",
      "Name: gender, dtype: int64\n",
      "####### nPercent #######\n",
      "1    0.272004\n",
      "3    0.229300\n",
      "0    0.218070\n",
      "2    0.156701\n",
      "5    0.113784\n",
      "4    0.006890\n",
      "6    0.003250\n",
      "Name: age, dtype: float64\n",
      "1    0.692125\n",
      "0    0.307875\n",
      "Name: gender, dtype: float64\n"
     ]
    }
   ],
   "source": [
    "label_statics(user_label, user_label.columns[1:3])"
   ]
  },
  {
   "cell_type": "code",
   "execution_count": 30,
   "metadata": {},
   "outputs": [],
   "source": [
    "user_edge.to_csv('./input/user_edge.csv', index=False)"
   ]
  },
  {
   "cell_type": "code",
   "execution_count": 31,
   "metadata": {},
   "outputs": [],
   "source": [
    "user_field.to_csv('./input/user_field.csv', index=False)"
   ]
  },
  {
   "cell_type": "code",
   "execution_count": 32,
   "metadata": {},
   "outputs": [],
   "source": [
    "user_label[['uid','gender']].to_csv('./input/user_gender.csv', index=False)\n",
    "user_label[['uid','age']].to_csv('./input/user_age.csv', index=False)"
   ]
  },
  {
   "cell_type": "markdown",
   "metadata": {},
   "source": [
    "# Reprocess"
   ]
  },
  {
   "cell_type": "code",
   "execution_count": 33,
   "metadata": {},
   "outputs": [
    {
     "name": "stdout",
     "output_type": "stream",
     "text": [
      "Shapes of user with field: (51378, 309)\n",
      "Number of user with field: 51378\n",
      "Shape of sampled user_field: (51378, 10)\n"
     ]
    }
   ],
   "source": [
    "import numpy as np\n",
    "import pandas as pd\n",
    "import scipy.sparse as sp\n",
    "\n",
    "import time\n",
    "\n",
    "NUM_FIELD = 10\n",
    "\n",
    "np.random.seed(42)\n",
    "\n",
    "def field_reader(path):\n",
    "    \"\"\"\n",
    "    Reading the sparse field matrix stored as csv from the disk.\n",
    "    :param path: Path to the csv file.\n",
    "    :return field: csr matrix of field.\n",
    "    \"\"\"\n",
    "    user_field = pd.read_csv(path)\n",
    "    user_index = user_field[\"uid\"].values.tolist()\n",
    "    field_index = user_field[\"cid\"].values.tolist()\n",
    "    user_count = max(user_index)+1\n",
    "    field_count = max(field_index)+1\n",
    "    field_index = sp.csr_matrix((np.ones_like(user_index), (user_index, field_index)), shape=(user_count, field_count))\n",
    "    return field_index\n",
    "\n",
    "user_field = field_reader('./input/user_field.csv')\n",
    "\n",
    "print(\"Shapes of user with field:\", user_field.shape)\n",
    "print(\"Number of user with field:\", np.count_nonzero(np.sum(user_field, axis=1)))\n",
    "\n",
    "def get_neighs(csr):\n",
    "    neighs = []\n",
    "#     t = time.time()\n",
    "    idx = np.arange(csr.shape[1])\n",
    "    for i in range(csr.shape[0]):\n",
    "        x = csr[i, :].toarray()[0] > 0\n",
    "        neighs.append(idx[x])\n",
    "#         if i % (10*1000) == 0:\n",
    "#             print('sec/10k:', time.time()-t)\n",
    "    return neighs\n",
    "\n",
    "def sample_neigh(neigh, num_sample):\n",
    "    if len(neigh) >= num_sample:\n",
    "        sample_neigh = np.random.choice(neigh, num_sample, replace=False)\n",
    "    elif len(neigh) < num_sample:\n",
    "        sample_neigh = np.random.choice(neigh, num_sample, replace=True)\n",
    "    return sample_neigh\n",
    "\n",
    "neighs = get_neighs(user_field)\n",
    "\n",
    "sample_neighs = []\n",
    "for i in range(len(neighs)):\n",
    "    sample_neighs.append(list(sample_neigh(neighs[i], NUM_FIELD)))\n",
    "sample_neighs = np.array(sample_neighs)\n",
    "np.save('./input/user_field.npy', sample_neighs)\n",
    "print('Shape of sampled user_field:', sample_neighs.shape)"
   ]
  },
  {
   "cell_type": "markdown",
   "metadata": {},
   "source": [
    "# For HGAT"
   ]
  },
  {
   "cell_type": "code",
   "execution_count": 34,
   "metadata": {},
   "outputs": [],
   "source": [
    "import time\n",
    "import numpy as np\n",
    "import pandas as pd\n",
    "import networkx as nx\n",
    "import scipy.sparse as sp"
   ]
  },
  {
   "cell_type": "code",
   "execution_count": 35,
   "metadata": {},
   "outputs": [],
   "source": [
    "def graph_reader(path):\n",
    "    \"\"\"\n",
    "    Function to read the graph from the path.\n",
    "    :param path: Path to the edge list.\n",
    "    :return graph: NetworkX object returned.\n",
    "    \"\"\"\n",
    "    graph = nx.from_edgelist(pd.read_csv(path).values.tolist())\n",
    "    return graph\n",
    "\n",
    "def get_neighs(csr):\n",
    "    neighs = []\n",
    "#     t = time.time()\n",
    "    idx = np.arange(csr.shape[1])\n",
    "    for i in range(csr.shape[0]):\n",
    "        x = csr[i, :].toarray()[0] > 0\n",
    "        neighs.append(idx[x])\n",
    "#         if i % (10*1000) == 0:\n",
    "#             print('sec/10k:', time.time()-t)\n",
    "    return neighs\n",
    "\n",
    "def sample_neigh(neigh, num_sample):\n",
    "    if len(neigh) >= num_sample:\n",
    "        sample_neigh = np.random.choice(neigh, num_sample, replace=False)\n",
    "    elif len(neigh) < num_sample:\n",
    "        sample_neigh = np.random.choice(neigh, num_sample, replace=True)\n",
    "    return sample_neigh\n",
    "\n",
    "def get_sample_neighs(neighs, num_sample_1, num_sample_2):\n",
    "    sample_neighs = []\n",
    "#     t = time.time()\n",
    "    for i in range(len(neighs)):\n",
    "        sample_neigh_1 = list(sample_neigh(neighs[i], num_sample_1))\n",
    "        sample_neigh_2 = []\n",
    "        for j in sample_neigh_1:\n",
    "            neigh = neighs[j]\n",
    "            sample_neigh_2.append(list(sample_neigh(neigh, num_sample_2)))\n",
    "        sample_neigh_2 = np.array(sample_neigh_2).flatten().tolist()\n",
    "        sample_neighs.append(sample_neigh_1 + sample_neigh_2 + [i])\n",
    "#         if i % (10*1000) == 0:\n",
    "#             print('sec/10k:', time.time()-t)\n",
    "    return np.array(sample_neighs)"
   ]
  },
  {
   "cell_type": "code",
   "execution_count": 36,
   "metadata": {},
   "outputs": [
    {
     "name": "stdout",
     "output_type": "stream",
     "text": [
      "(51378, 51378)\n"
     ]
    }
   ],
   "source": [
    "np.random.seed(42)\n",
    "\n",
    "NUM_1 = 10\n",
    "NUM_2 = 4\n",
    "\n",
    "graph = graph_reader('./input/user_edge.csv')\n",
    "user_adj = nx.adjacency_matrix(graph, nodelist=graph.nodes())\n",
    "print(user_adj.shape)"
   ]
  },
  {
   "cell_type": "code",
   "execution_count": 37,
   "metadata": {},
   "outputs": [
    {
     "name": "stdout",
     "output_type": "stream",
     "text": [
      "shape of sample_user: (51378, 51)\n"
     ]
    }
   ],
   "source": [
    "neighs = get_neighs(user_adj)\n",
    "sample_neighs = get_sample_neighs(neighs, NUM_1, NUM_2)\n",
    "np.save(\"./input/vertex_id.npy\", sample_neighs)\n",
    "print('shape of sample_user:', sample_neighs.shape)"
   ]
  },
  {
   "cell_type": "code",
   "execution_count": 38,
   "metadata": {},
   "outputs": [
    {
     "name": "stdout",
     "output_type": "stream",
     "text": [
      "adj_dict is completed!\n"
     ]
    }
   ],
   "source": [
    "adj_dict = {}\n",
    "idx = np.arange(user_adj.shape[1])\n",
    "# t = time.time()\n",
    "for i in range(user_adj.shape[0]):\n",
    "    x = user_adj[i, :].toarray()[0] > 0\n",
    "    for j in idx[x]:\n",
    "        adj_dict[(i, j)] = True\n",
    "#     if i % (10*1000) == 0:\n",
    "#         print('sec/10k:', time.time()-t)\n",
    "print('adj_dict is completed!')"
   ]
  },
  {
   "cell_type": "code",
   "execution_count": 39,
   "metadata": {},
   "outputs": [
    {
     "name": "stdout",
     "output_type": "stream",
     "text": [
      "shape of sample_user_adj: (51378, 51, 51)\n"
     ]
    }
   ],
   "source": [
    "sample_user_adj = np.zeros((\n",
    "    sample_neighs.shape[0], sample_neighs.shape[1], sample_neighs.shape[1]), dtype=np.float32)\n",
    "# t = time.time()\n",
    "for i in range(sample_neighs.shape[0]):\n",
    "    for j in range(sample_neighs.shape[1]):\n",
    "        for k in range(sample_neighs.shape[1]):\n",
    "            if adj_dict.get((sample_neighs[i, j], sample_neighs[i, k])):\n",
    "                sample_user_adj[i, j, k] = 1.\n",
    "#     if i % (10*1000) == 0:\n",
    "#         print('sec/10k:', time.time()-t)\n",
    "np.save(\"./input/adjacency_matrix.npy\", sample_user_adj)\n",
    "print('shape of sample_user_adj:', sample_user_adj.shape)"
   ]
  },
  {
   "cell_type": "code",
   "execution_count": null,
   "metadata": {},
   "outputs": [],
   "source": []
  }
 ],
 "metadata": {
  "kernelspec": {
   "display_name": "Python 3",
   "language": "python",
   "name": "python3"
  },
  "language_info": {
   "codemirror_mode": {
    "name": "ipython",
    "version": 3
   },
   "file_extension": ".py",
   "mimetype": "text/x-python",
   "name": "python",
   "nbconvert_exporter": "python",
   "pygments_lexer": "ipython3",
   "version": "3.5.2"
  }
 },
 "nbformat": 4,
 "nbformat_minor": 2
}
